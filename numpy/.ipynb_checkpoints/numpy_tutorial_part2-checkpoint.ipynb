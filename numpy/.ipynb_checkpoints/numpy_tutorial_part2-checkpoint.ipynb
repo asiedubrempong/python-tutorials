{
 "cells": [
  {
   "cell_type": "markdown",
   "metadata": {},
   "source": [
    "# Introduction to Numpy\n",
    "\n",
    "#### Credit: https://www.machinelearningplus.com/python/numpy-tutorial-part1-array-python-examples/"
   ]
  },
  {
   "cell_type": "markdown",
   "metadata": {},
   "source": [
    "## How to get index locations that satisfy a given condition using np.where?\n",
    "\n",
    "np.where locates the positions in the array where a given condition holds true.\n",
    "\n"
   ]
  },
  {
   "cell_type": "code",
   "execution_count": 3,
   "metadata": {},
   "outputs": [
    {
     "name": "stdout",
     "output_type": "stream",
     "text": [
      "Array:  [8 8 3 7 7 0 4 2 5 2]\n",
      "Positions where value > 5:  (array([0, 1, 3, 4]),)\n"
     ]
    }
   ],
   "source": [
    "# create an array\n",
    "import numpy as np\n",
    "arr_rand = np.array([8, 8, 3, 7, 7, 0, 4, 2, 5, 2])\n",
    "print(\"Array: \", arr_rand)\n",
    "\n",
    "# positions where value > 5\n",
    "positions = np.where(arr_rand > 5)\n",
    "print(\"Positions where value > 5: \", positions)"
   ]
  },
  {
   "cell_type": "code",
   "execution_count": 5,
   "metadata": {},
   "outputs": [
    {
     "data": {
      "text/plain": [
       "array([[8, 8, 7, 7]])"
      ]
     },
     "execution_count": 5,
     "metadata": {},
     "output_type": "execute_result"
    }
   ],
   "source": [
    "# take items at given index\n",
    "arr_rand.take(positions)"
   ]
  },
  {
   "cell_type": "markdown",
   "metadata": {},
   "source": [
    "np.where also accepts 2 more optional arguments x and y. Whenever condition is true, ‘x’ is yielded else ‘y’."
   ]
  },
  {
   "cell_type": "code",
   "execution_count": 6,
   "metadata": {},
   "outputs": [
    {
     "data": {
      "text/plain": [
       "array(['gt5', 'gt5', 'le5', 'gt5', 'gt5', 'le5', 'le5', 'le5', 'le5',\n",
       "       'le5'], dtype='<U3')"
      ]
     },
     "execution_count": 6,
     "metadata": {},
     "output_type": "execute_result"
    }
   ],
   "source": [
    "# if value > 5, then yield 'gt5' else 'le5'\n",
    "np.where(arr_rand > 5, 'gt5', 'le5')"
   ]
  },
  {
   "cell_type": "markdown",
   "metadata": {},
   "source": [
    "### Find the location of the minimum and the maximum values as well"
   ]
  },
  {
   "cell_type": "code",
   "execution_count": 8,
   "metadata": {},
   "outputs": [
    {
     "name": "stdout",
     "output_type": "stream",
     "text": [
      "Location of maximum value:  0\n",
      "Location of the minimum value:  5\n"
     ]
    }
   ],
   "source": [
    "# location of the max\n",
    "print(\"Location of maximum value: \", np.argmax(arr_rand))\n",
    "\n",
    "# location of the min\n",
    "print(\"Location of the minimum value: \", np.argmin(arr_rand))"
   ]
  },
  {
   "cell_type": "markdown",
   "metadata": {},
   "source": [
    "## How to import and export data as a csv file?\n",
    "\n",
    "A standard way to import datasets is to use the np.genfromtxt function. It can import datasets from web URLs, handle missing values, multiple delimiters, handle irregular number of columns etc.\n",
    "\n",
    "A less versatile version is the np.loadtxt which assumes the dataset has no missing values."
   ]
  },
  {
   "cell_type": "code",
   "execution_count": 12,
   "metadata": {},
   "outputs": [
    {
     "data": {
      "text/plain": [
       "array([[  18. ,    8. ,  307. ,  130. , 3504. ,   12. ,   70. ,    1. ,\n",
       "        -999. ],\n",
       "       [  15. ,    8. ,  350. ,  165. , 3693. ,   11.5,   70. ,    1. ,\n",
       "        -999. ],\n",
       "       [  18. ,    8. ,  318. ,  150. , 3436. ,   11. ,   70. ,    1. ,\n",
       "        -999. ]])"
      ]
     },
     "execution_count": 12,
     "metadata": {},
     "output_type": "execute_result"
    }
   ],
   "source": [
    "# turn off scientific notation\n",
    "np.set_printoptions(suppress=True)\n",
    "\n",
    "# import data from csv file url\n",
    "path = 'https://raw.githubusercontent.com/selva86/datasets/master/Auto.csv'\n",
    "data = np.genfromtxt(path, delimiter=',', skip_header=1, filling_values=-999, dtype='float')\n",
    "data[:3]  # see first 3 rows"
   ]
  },
  {
   "cell_type": "markdown",
   "metadata": {},
   "source": [
    "### How to handle datasets that has both numbers and text columns?\n",
    "\n",
    "In case, you MUST have the text column as it is without replacing it with a placeholder, you can either set the dtype as ‘object’ or as None."
   ]
  },
  {
   "cell_type": "code",
   "execution_count": 13,
   "metadata": {},
   "outputs": [],
   "source": [
    "# save the array as a csv file\n",
    "np.savetxt(\"out.csv\", data, delimiter=\",\")"
   ]
  },
  {
   "cell_type": "markdown",
   "metadata": {},
   "source": [
    "## How to save and load numpy objects?\n",
    "\n",
    "At some point, we will want to save large transformed numpy arrays to disk and load it back to console directly without having the re-run the data transformations code.\n",
    "\n",
    "Numpy provides the .npy and the .npz file types for this purpose.\n",
    "\n",
    "If you want to store a single ndarray object, store it as a .npy file using np.save. This can be loaded back using the np.load.\n",
    "\n",
    "If you want to store more than 1 ndarray object in a single file, then save it as a .npz file using np.savez."
   ]
  },
  {
   "cell_type": "code",
   "execution_count": 16,
   "metadata": {},
   "outputs": [],
   "source": [
    "arr2d = np.array([[1,2,3,4], [5,6,7,8], [9,10,11,12]])\n",
    "arr2d_f = arr2d.astype('float')\n",
    "\n",
    "# save single numpy array object as .npy file\n",
    "np.save('myarray.npy', arr2d)\n",
    "\n",
    "# save multiple numpy arrays as a .npz file\n",
    "np.savez('array.npz', arr2d, arr2d_f)"
   ]
  },
  {
   "cell_type": "markdown",
   "metadata": {},
   "source": [
    "### Load back the .npy file"
   ]
  },
  {
   "cell_type": "code",
   "execution_count": 18,
   "metadata": {},
   "outputs": [
    {
     "name": "stdout",
     "output_type": "stream",
     "text": [
      "[[ 1  2  3  4]\n",
      " [ 5  6  7  8]\n",
      " [ 9 10 11 12]]\n"
     ]
    }
   ],
   "source": [
    "# load a .npy file\n",
    "a = np.load('myarray.npy')\n",
    "print(a)"
   ]
  },
  {
   "cell_type": "code",
   "execution_count": 22,
   "metadata": {},
   "outputs": [
    {
     "name": "stdout",
     "output_type": "stream",
     "text": [
      "['arr_0', 'arr_1']\n"
     ]
    },
    {
     "data": {
      "text/plain": [
       "array([[ 1,  2,  3,  4],\n",
       "       [ 5,  6,  7,  8],\n",
       "       [ 9, 10, 11, 12]])"
      ]
     },
     "execution_count": 22,
     "metadata": {},
     "output_type": "execute_result"
    }
   ],
   "source": [
    "### Load back the .npz file\n",
    "b = np.load('array.npz')\n",
    "print(b.files)\n",
    "b['arr_0']"
   ]
  },
  {
   "cell_type": "markdown",
   "metadata": {},
   "source": [
    "## How to concatenate two numpy arrays columnwise and row wise\n"
   ]
  },
  {
   "cell_type": "markdown",
   "metadata": {},
   "source": [
    "There are 3 different ways of concatenating two or more numpy arrays.\n",
    "\n",
    "1. np.concatenate by changing the axis parameter to 0 and 1\n",
    "2. np.vstack and np.hstack\n",
    "3. np.r_ and np.c_\n",
    "\n",
    "All 3 methods provide the same output\n",
    "\n",
    "One key difference to notice is unlike the other 2 methods, both np.r_ and np.c_ use square brackets to stack arrays."
   ]
  },
  {
   "cell_type": "code",
   "execution_count": 24,
   "metadata": {},
   "outputs": [],
   "source": [
    "a = np.zeros([4,4])\n",
    "b = np.ones([4,4])"
   ]
  },
  {
   "cell_type": "code",
   "execution_count": 25,
   "metadata": {},
   "outputs": [
    {
     "data": {
      "text/plain": [
       "array([[0., 0., 0., 0.],\n",
       "       [0., 0., 0., 0.],\n",
       "       [0., 0., 0., 0.],\n",
       "       [0., 0., 0., 0.],\n",
       "       [1., 1., 1., 1.],\n",
       "       [1., 1., 1., 1.],\n",
       "       [1., 1., 1., 1.],\n",
       "       [1., 1., 1., 1.]])"
      ]
     },
     "execution_count": 25,
     "metadata": {},
     "output_type": "execute_result"
    }
   ],
   "source": [
    "# stack the arrays vetically - row wise\n",
    "np.concatenate([a,b], axis=0)\n",
    "np.vstack([a,b])\n",
    "np.r_[a, b]"
   ]
  },
  {
   "cell_type": "code",
   "execution_count": 26,
   "metadata": {},
   "outputs": [
    {
     "data": {
      "text/plain": [
       "array([[0., 0., 0., 0., 1., 1., 1., 1.],\n",
       "       [0., 0., 0., 0., 1., 1., 1., 1.],\n",
       "       [0., 0., 0., 0., 1., 1., 1., 1.],\n",
       "       [0., 0., 0., 0., 1., 1., 1., 1.]])"
      ]
     },
     "execution_count": 26,
     "metadata": {},
     "output_type": "execute_result"
    }
   ],
   "source": [
    "# stack the arrays horizontally - column wise\n",
    "np.concatenate([a,b], axis=1)\n",
    "np.hstack([a,b])\n",
    "np.c_[a,b]"
   ]
  },
  {
   "cell_type": "markdown",
   "metadata": {},
   "source": [
    "you can use np.r_ to create more complex number sequences in 1d arrays.\n",
    "\n"
   ]
  },
  {
   "cell_type": "code",
   "execution_count": 28,
   "metadata": {},
   "outputs": [
    {
     "data": {
      "text/plain": [
       "array([1, 2, 3, 0, 0, 4, 5, 6])"
      ]
     },
     "execution_count": 28,
     "metadata": {},
     "output_type": "execute_result"
    }
   ],
   "source": [
    "np.r_[[1,2,3], 0, 0, [4, 5, 6]]"
   ]
  },
  {
   "cell_type": "markdown",
   "metadata": {},
   "source": [
    "## How to sort a numpy array based on one or more columns?"
   ]
  },
  {
   "cell_type": "code",
   "execution_count": 29,
   "metadata": {},
   "outputs": [
    {
     "data": {
      "text/plain": [
       "array([[3, 5, 5, 5],\n",
       "       [2, 3, 5, 3],\n",
       "       [1, 2, 5, 4],\n",
       "       [1, 5, 1, 1],\n",
       "       [4, 3, 1, 1],\n",
       "       [3, 1, 5, 3],\n",
       "       [4, 2, 1, 2],\n",
       "       [1, 5, 4, 3]])"
      ]
     },
     "execution_count": 29,
     "metadata": {},
     "output_type": "execute_result"
    }
   ],
   "source": [
    "arr = np.random.randint(1, 6, size=[8, 4])\n",
    "arr"
   ]
  },
  {
   "cell_type": "markdown",
   "metadata": {},
   "source": [
    "If you use the np.sort function with axis=0, all the columns will be sorted in ascending order independent of eachother, effectively compromising the integrity of the row items. In simple terms, the values in each row gets corrupted with values from other rows."
   ]
  },
  {
   "cell_type": "markdown",
   "metadata": {},
   "source": [
    "### How to sort a numpy array based on 1 column using argsort?"
   ]
  },
  {
   "cell_type": "code",
   "execution_count": 31,
   "metadata": {},
   "outputs": [
    {
     "data": {
      "text/plain": [
       "array([[1, 2, 5, 4],\n",
       "       [1, 5, 1, 1],\n",
       "       [1, 5, 4, 3],\n",
       "       [2, 3, 5, 3],\n",
       "       [3, 5, 5, 5],\n",
       "       [3, 1, 5, 3],\n",
       "       [4, 3, 1, 1],\n",
       "       [4, 2, 1, 2]])"
      ]
     },
     "execution_count": 31,
     "metadata": {},
     "output_type": "execute_result"
    }
   ],
   "source": [
    "# argsort the first column\n",
    "sorted_index_1stcol = arr[:, 0].argsort()\n",
    "\n",
    "# sort 'arr' by first column without disturbing the integrity of rows\n",
    "arr[sorted_index_1stcol]"
   ]
  },
  {
   "cell_type": "markdown",
   "metadata": {},
   "source": [
    "To sort it in decreasing order, simply reverse the argsorted index"
   ]
  },
  {
   "cell_type": "code",
   "execution_count": 32,
   "metadata": {},
   "outputs": [
    {
     "data": {
      "text/plain": [
       "array([[4, 2, 1, 2],\n",
       "       [4, 3, 1, 1],\n",
       "       [3, 1, 5, 3],\n",
       "       [3, 5, 5, 5],\n",
       "       [2, 3, 5, 3],\n",
       "       [1, 5, 4, 3],\n",
       "       [1, 5, 1, 1],\n",
       "       [1, 2, 5, 4]])"
      ]
     },
     "execution_count": 32,
     "metadata": {},
     "output_type": "execute_result"
    }
   ],
   "source": [
    "# descending sort\n",
    "arr[sorted_index_1stcol[::-1]]"
   ]
  },
  {
   "cell_type": "markdown",
   "metadata": {},
   "source": [
    "### How to sort a numpy array based on 2 or more columns?\n",
    "\n",
    "You can do this using np.lexsort by passing a tuple of columns based on which the array should be sorted.\n",
    "\n",
    "Just remember to place the column to be sorted first at the rightmost side inside the tuple."
   ]
  },
  {
   "cell_type": "code",
   "execution_count": 34,
   "metadata": {},
   "outputs": [
    {
     "data": {
      "text/plain": [
       "array([[1, 2, 5, 4],\n",
       "       [1, 5, 1, 1],\n",
       "       [1, 5, 4, 3],\n",
       "       [2, 3, 5, 3],\n",
       "       [3, 1, 5, 3],\n",
       "       [3, 5, 5, 5],\n",
       "       [4, 2, 1, 2],\n",
       "       [4, 3, 1, 1]])"
      ]
     },
     "execution_count": 34,
     "metadata": {},
     "output_type": "execute_result"
    }
   ],
   "source": [
    "# sort by column 0, then by column 1\n",
    "lexsorted_index = np.lexsort((arr[:, 1], arr[:, 0]))\n",
    "arr[lexsorted_index]"
   ]
  },
  {
   "cell_type": "markdown",
   "metadata": {},
   "source": [
    "## Working with dates\n",
    "\n",
    "Numpy implements dates through the np.datetime64 object which supports a precision till nanoseconds. You can create one using a standard YYYY-MM-DD formatted date strings."
   ]
  },
  {
   "cell_type": "code",
   "execution_count": 37,
   "metadata": {},
   "outputs": [
    {
     "data": {
      "text/plain": [
       "numpy.datetime64('2018-02-04T23:10:10')"
      ]
     },
     "execution_count": 37,
     "metadata": {},
     "output_type": "execute_result"
    }
   ],
   "source": [
    "# create a datetime64 object\n",
    "date64 = np.datetime64('2018-02-04 23:10:10')\n",
    "date64"
   ]
  },
  {
   "cell_type": "code",
   "execution_count": 38,
   "metadata": {},
   "outputs": [
    {
     "data": {
      "text/plain": [
       "numpy.datetime64('2018-02-04')"
      ]
     },
     "execution_count": 38,
     "metadata": {},
     "output_type": "execute_result"
    }
   ],
   "source": [
    "# drop the time part from the datetime64 object\n",
    "dt64 = np.datetime64(date64, 'D')\n",
    "dt64"
   ]
  },
  {
   "cell_type": "code",
   "execution_count": 41,
   "metadata": {},
   "outputs": [
    {
     "data": {
      "text/plain": [
       "numpy.datetime64('2018-02-05')"
      ]
     },
     "execution_count": 41,
     "metadata": {},
     "output_type": "execute_result"
    }
   ],
   "source": [
    "# adding a number increases the days\n",
    "dt64+1"
   ]
  },
  {
   "cell_type": "markdown",
   "metadata": {},
   "source": [
    "But if you need to increase any other time unit like months, hours, seconds etc, then the timedelta object is much convenient."
   ]
  },
  {
   "cell_type": "code",
   "execution_count": 42,
   "metadata": {},
   "outputs": [
    {
     "name": "stdout",
     "output_type": "stream",
     "text": [
      "Add 10 minutes:  2018-02-04T00:10\n",
      "Add 10 seconds:  2018-02-04T00:00:10\n",
      "Add 10 nanoseconds:  2018-02-04T00:00:00.000000010\n"
     ]
    }
   ],
   "source": [
    "# create the timedeltas (individual units of time)\n",
    "tenminutes = np.timedelta64(10, 'm')  # 10 minutes\n",
    "tenseconds = np.timedelta64(10, 's')  # 10 seconds\n",
    "tennanoseconds = np.timedelta64(10, 'ns')  # 10 nanoseconds\n",
    "\n",
    "print('Add 10 minutes: ', dt64 + tenminutes)\n",
    "print('Add 10 seconds: ', dt64 + tenseconds)\n",
    "print('Add 10 nanoseconds: ', dt64 + tennanoseconds)"
   ]
  },
  {
   "cell_type": "code",
   "execution_count": 43,
   "metadata": {},
   "outputs": [
    {
     "data": {
      "text/plain": [
       "'2018-02-04'"
      ]
     },
     "execution_count": 43,
     "metadata": {},
     "output_type": "execute_result"
    }
   ],
   "source": [
    "# convert np.datetime64 back to a string\n",
    "np.datetime_as_string(dt64)"
   ]
  },
  {
   "cell_type": "markdown",
   "metadata": {},
   "source": [
    "You can know if a given date is a business day or not using the np.is_busday()."
   ]
  },
  {
   "cell_type": "code",
   "execution_count": 46,
   "metadata": {},
   "outputs": [
    {
     "name": "stdout",
     "output_type": "stream",
     "text": [
      "Date:  2018-02-04\n",
      "Is it a business day?:  False\n",
      "Add 2 business days, rolling forward to nearest biz day:  2018-02-07\n",
      "Add 2 business days, rolling backward to nearest biz day:  2018-02-06\n"
     ]
    }
   ],
   "source": [
    "print('Date: ', dt64)\n",
    "print('Is it a business day?: ', np.is_busday(dt64))\n",
    "print('Add 2 business days, rolling forward to nearest biz day: ', np.busday_offset(dt64, 2, roll='forward'))\n",
    "print('Add 2 business days, rolling backward to nearest biz day: ', np.busday_offset(dt64, 2, roll='backward'))"
   ]
  },
  {
   "cell_type": "markdown",
   "metadata": {},
   "source": [
    "### How to create a sequence of dates?"
   ]
  },
  {
   "cell_type": "code",
   "execution_count": 47,
   "metadata": {},
   "outputs": [
    {
     "name": "stdout",
     "output_type": "stream",
     "text": [
      "['2018-02-01' '2018-02-02' '2018-02-03' '2018-02-04' '2018-02-05'\n",
      " '2018-02-06' '2018-02-07' '2018-02-08' '2018-02-09']\n"
     ]
    },
    {
     "data": {
      "text/plain": [
       "array([ True,  True, False, False,  True,  True,  True,  True,  True])"
      ]
     },
     "execution_count": 47,
     "metadata": {},
     "output_type": "execute_result"
    }
   ],
   "source": [
    "# create date sequence \n",
    "dates = np.arange(np.datetime64('2018-02-01'), np.datetime64('2018-02-10'))\n",
    "print(dates)\n",
    "\n",
    "# check if it's a business day\n",
    "np.is_busday(dates)"
   ]
  },
  {
   "cell_type": "code",
   "execution_count": null,
   "metadata": {},
   "outputs": [],
   "source": []
  }
 ],
 "metadata": {
  "kernelspec": {
   "display_name": "Python 3",
   "language": "python",
   "name": "python3"
  },
  "language_info": {
   "codemirror_mode": {
    "name": "ipython",
    "version": 3
   },
   "file_extension": ".py",
   "mimetype": "text/x-python",
   "name": "python",
   "nbconvert_exporter": "python",
   "pygments_lexer": "ipython3",
   "version": "3.6.4"
  }
 },
 "nbformat": 4,
 "nbformat_minor": 2
}
