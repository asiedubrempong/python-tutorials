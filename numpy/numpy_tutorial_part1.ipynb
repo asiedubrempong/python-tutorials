{
 "cells": [
  {
   "cell_type": "markdown",
   "metadata": {},
   "source": [
    "# Introduction to Numpy\n",
    "\n",
    "#### Credit: https://www.machinelearningplus.com/python/numpy-tutorial-part1-array-python-examples/"
   ]
  },
  {
   "cell_type": "markdown",
   "metadata": {},
   "source": [
    "## What does numpy provide?\n",
    "\n",
    "At the core, numpy provides the excellent ndarray objects, short for n-dimensional arrays.\n",
    "\n",
    "It is the facilities around the array object that makes numpy so convenient for performing math and data manipulations."
   ]
  },
  {
   "cell_type": "markdown",
   "metadata": {},
   "source": [
    "## How to create a numpy array?\n",
    "\n",
    "There are multiple ways to create a numpy array, one of the most common ways is to create one from a list or a list like an object by passing it to the np.array function."
   ]
  },
  {
   "cell_type": "code",
   "execution_count": 2,
   "metadata": {},
   "outputs": [],
   "source": [
    "import numpy as np  # import the numpy library"
   ]
  },
  {
   "cell_type": "code",
   "execution_count": 3,
   "metadata": {},
   "outputs": [
    {
     "name": "stdout",
     "output_type": "stream",
     "text": [
      "<class 'numpy.ndarray'>\n"
     ]
    },
    {
     "data": {
      "text/plain": [
       "array([0, 1, 2, 3, 4])"
      ]
     },
     "execution_count": 3,
     "metadata": {},
     "output_type": "execute_result"
    }
   ],
   "source": [
    "# create an Id array from a list\n",
    "list1 = [0,1,2,3,4]\n",
    "arr1d = np.array(list1)\n",
    "\n",
    "# print the array and it's type\n",
    "print(type(arr1d))\n",
    "arr1d"
   ]
  },
  {
   "cell_type": "markdown",
   "metadata": {},
   "source": [
    "The key difference between an array and a list is, arrays are designed to handle vectorized operations while a python list is not.\n",
    "That means, if you apply a function it is performed on every item in the array, rather than on the whole array object."
   ]
  },
  {
   "cell_type": "code",
   "execution_count": 4,
   "metadata": {},
   "outputs": [
    {
     "data": {
      "text/plain": [
       "array([2, 3, 4, 5, 6])"
      ]
     },
     "execution_count": 4,
     "metadata": {},
     "output_type": "execute_result"
    }
   ],
   "source": [
    "# add 2 to every item in the array\n",
    "arr1d + 2"
   ]
  },
  {
   "cell_type": "markdown",
   "metadata": {},
   "source": [
    "Another characteristic is that, once a numpy array is created, you cannot increase its size. To do so, you will have to create a new array."
   ]
  },
  {
   "cell_type": "code",
   "execution_count": 5,
   "metadata": {},
   "outputs": [
    {
     "data": {
      "text/plain": [
       "array([[0, 1, 2],\n",
       "       [3, 4, 5],\n",
       "       [6, 7, 8]])"
      ]
     },
     "execution_count": 5,
     "metadata": {},
     "output_type": "execute_result"
    }
   ],
   "source": [
    "# create a 2d array from a list of lists\n",
    "list2 = [[0,1,2], [3,4,5], [6,7,8]]\n",
    "arr2d = np.array(list2)\n",
    "arr2d"
   ]
  },
  {
   "cell_type": "markdown",
   "metadata": {},
   "source": [
    "You may also specify the datatype by setting the dtype argument. Some of the most commonly used numpy dtypes are: 'float', 'int', 'bool', 'str' and 'object'.\n",
    "\n",
    "To control the memory allocations you may choose to use one of ‘float32’, ‘float64’, ‘int8’, ‘int16’ or ‘int32’.\n"
   ]
  },
  {
   "cell_type": "code",
   "execution_count": 6,
   "metadata": {},
   "outputs": [
    {
     "data": {
      "text/plain": [
       "array([[0., 1., 2.],\n",
       "       [3., 4., 5.],\n",
       "       [6., 7., 8.]])"
      ]
     },
     "execution_count": 6,
     "metadata": {},
     "output_type": "execute_result"
    }
   ],
   "source": [
    "# create a float 2d array\n",
    "arr2d_f = np.array(list2, 'float')\n",
    "arr2d_f"
   ]
  },
  {
   "cell_type": "markdown",
   "metadata": {},
   "source": [
    "you can also convert it to a different datatype using the astype method."
   ]
  },
  {
   "cell_type": "code",
   "execution_count": 7,
   "metadata": {},
   "outputs": [
    {
     "data": {
      "text/plain": [
       "array([[0., 1., 2.],\n",
       "       [3., 4., 5.],\n",
       "       [6., 7., 8.]])"
      ]
     },
     "execution_count": 7,
     "metadata": {},
     "output_type": "execute_result"
    }
   ],
   "source": [
    "arr2d_f.astype('int')\n",
    "arr2d_f"
   ]
  },
  {
   "cell_type": "markdown",
   "metadata": {},
   "source": [
    "A numpy array must have all items to be of the same data type, unlike lists. \n",
    "\n",
    "However, if you are uncertain about what datatype your array will hold or if you want to hold characters and numbers in the same array, you can set the dtype as 'object'."
   ]
  },
  {
   "cell_type": "code",
   "execution_count": 8,
   "metadata": {},
   "outputs": [
    {
     "data": {
      "text/plain": [
       "array([1, 'a'], dtype=object)"
      ]
     },
     "execution_count": 8,
     "metadata": {},
     "output_type": "execute_result"
    }
   ],
   "source": [
    "# create an object array to hold numbers as well as strings\n",
    "arr1d_obj = np.array([1, 'a'], dtype='object')\n",
    "arr1d_obj"
   ]
  },
  {
   "cell_type": "markdown",
   "metadata": {},
   "source": [
    " you can always convert an array back to a python list using tolist()"
   ]
  },
  {
   "cell_type": "code",
   "execution_count": 9,
   "metadata": {},
   "outputs": [
    {
     "data": {
      "text/plain": [
       "[1, 'a']"
      ]
     },
     "execution_count": 9,
     "metadata": {},
     "output_type": "execute_result"
    }
   ],
   "source": [
    "# convert an array back to a list\n",
    "arr1d_obj.tolist()"
   ]
  },
  {
   "cell_type": "markdown",
   "metadata": {},
   "source": [
    "##  Inspecting the size and shape of a numpy array"
   ]
  },
  {
   "cell_type": "markdown",
   "metadata": {},
   "source": [
    "Let’s suppose you were handed a numpy vector that you didn’t create yourself. \n",
    "The things you would want to know about the array are:\n",
    "\n",
    "If it is a 1D or a 2D array or more. (ndim)\n",
    "\n",
    "How many items are present in each dimension (shape)\n",
    "\n",
    "What is its datatype (dtype)\n",
    "\n",
    "What is the total number of items in it (size)\n",
    "\n",
    "Samples of first few items in the array (through indexing)"
   ]
  },
  {
   "cell_type": "code",
   "execution_count": 10,
   "metadata": {},
   "outputs": [
    {
     "data": {
      "text/plain": [
       "array([[1., 2., 3., 4.],\n",
       "       [3., 4., 5., 6.],\n",
       "       [5., 6., 7., 8.]])"
      ]
     },
     "execution_count": 10,
     "metadata": {},
     "output_type": "execute_result"
    }
   ],
   "source": [
    "# create a 2d array with 3 rows and 4 columns \n",
    "list2 = [[1,2,3,4], [3,4,5,6,], [5,6,7,8]]\n",
    "arr2 = np.array(list2, dtype='float')\n",
    "arr2"
   ]
  },
  {
   "cell_type": "code",
   "execution_count": 11,
   "metadata": {},
   "outputs": [
    {
     "name": "stdout",
     "output_type": "stream",
     "text": [
      "Shape:  (3, 4)\n",
      "Dimension:  2\n",
      "Datatype:  float64\n",
      "Size:  12\n"
     ]
    }
   ],
   "source": [
    "# shape\n",
    "print('Shape: ', arr2.shape)\n",
    "\n",
    "# dimension \n",
    "print('Dimension: ', arr2.ndim)\n",
    "\n",
    "# dtype\n",
    "print('Datatype: ', arr2.dtype)\n",
    "\n",
    "# size \n",
    "print('Size: ', arr2.size)"
   ]
  },
  {
   "cell_type": "markdown",
   "metadata": {},
   "source": [
    "## How to extract specific items from an array?"
   ]
  },
  {
   "cell_type": "code",
   "execution_count": 12,
   "metadata": {},
   "outputs": [
    {
     "data": {
      "text/plain": [
       "array([[1., 2.],\n",
       "       [3., 4.]])"
      ]
     },
     "execution_count": 12,
     "metadata": {},
     "output_type": "execute_result"
    }
   ],
   "source": [
    "# extract the first 2 rows and columns\n",
    "arr2[:2, :2]"
   ]
  },
  {
   "cell_type": "markdown",
   "metadata": {},
   "source": [
    "Additionally, numpy arrays support boolean indexing."
   ]
  },
  {
   "cell_type": "code",
   "execution_count": 13,
   "metadata": {},
   "outputs": [
    {
     "data": {
      "text/plain": [
       "array([[False, False, False, False],\n",
       "       [False, False,  True,  True],\n",
       "       [ True,  True,  True,  True]])"
      ]
     },
     "execution_count": 13,
     "metadata": {},
     "output_type": "execute_result"
    }
   ],
   "source": [
    "# get the boolean output by applying the condition to each element\n",
    "b = arr2 > 4\n",
    "b"
   ]
  },
  {
   "cell_type": "code",
   "execution_count": 14,
   "metadata": {},
   "outputs": [
    {
     "data": {
      "text/plain": [
       "array([5., 6., 5., 6., 7., 8.])"
      ]
     },
     "execution_count": 14,
     "metadata": {},
     "output_type": "execute_result"
    }
   ],
   "source": [
    "arr2[arr2>4]"
   ]
  },
  {
   "cell_type": "markdown",
   "metadata": {},
   "source": [
    "### Reverse the rows and the whole array"
   ]
  },
  {
   "cell_type": "code",
   "execution_count": 15,
   "metadata": {},
   "outputs": [
    {
     "data": {
      "text/plain": [
       "array([[5., 6., 7., 8.],\n",
       "       [3., 4., 5., 6.],\n",
       "       [1., 2., 3., 4.]])"
      ]
     },
     "execution_count": 15,
     "metadata": {},
     "output_type": "execute_result"
    }
   ],
   "source": [
    "# reverse only the row positions\n",
    "arr2[::-1, ]"
   ]
  },
  {
   "cell_type": "code",
   "execution_count": 16,
   "metadata": {},
   "outputs": [
    {
     "data": {
      "text/plain": [
       "array([[8., 7., 6., 5.],\n",
       "       [6., 5., 4., 3.],\n",
       "       [4., 3., 2., 1.]])"
      ]
     },
     "execution_count": 16,
     "metadata": {},
     "output_type": "execute_result"
    }
   ],
   "source": [
    "# reverse the row and the column positions\n",
    "arr2[::-1, ::-1]"
   ]
  },
  {
   "cell_type": "markdown",
   "metadata": {},
   "source": [
    "### How to represent missing values and infinite?"
   ]
  },
  {
   "cell_type": "code",
   "execution_count": 17,
   "metadata": {},
   "outputs": [
    {
     "data": {
      "text/plain": [
       "array([[ 1.,  2.,  3.,  4.],\n",
       "       [ 3., nan, inf,  6.],\n",
       "       [ 5.,  6.,  7.,  8.]])"
      ]
     },
     "execution_count": 17,
     "metadata": {},
     "output_type": "execute_result"
    }
   ],
   "source": [
    "# insert a nan and an inf\n",
    "arr2[1,1] = np.nan\n",
    "arr2[1,2] = np.inf\n",
    "arr2"
   ]
  },
  {
   "cell_type": "code",
   "execution_count": 18,
   "metadata": {},
   "outputs": [
    {
     "data": {
      "text/plain": [
       "array([[ 1.,  2.,  3.,  4.],\n",
       "       [ 3., -1., -1.,  6.],\n",
       "       [ 5.,  6.,  7.,  8.]])"
      ]
     },
     "execution_count": 18,
     "metadata": {},
     "output_type": "execute_result"
    }
   ],
   "source": [
    "# replace nan and inf with -1 \n",
    "missing_bool = np.isnan(arr2) | np.isinf(arr2)\n",
    "arr2[missing_bool] = -1\n",
    "arr2"
   ]
  },
  {
   "cell_type": "code",
   "execution_count": 19,
   "metadata": {},
   "outputs": [],
   "source": [
    "### How to compute mean, min and max on the ndarray?"
   ]
  },
  {
   "cell_type": "code",
   "execution_count": 20,
   "metadata": {},
   "outputs": [
    {
     "name": "stdout",
     "output_type": "stream",
     "text": [
      "Mean:  3.5833333333333335\n",
      "Min:  -1.0\n",
      "Max:  8.0\n"
     ]
    }
   ],
   "source": [
    "# mean, min and max\n",
    "print('Mean: ', arr2.mean())\n",
    "print('Min: ', arr2.min())\n",
    "print('Max: ', arr2.max())"
   ]
  },
  {
   "cell_type": "markdown",
   "metadata": {},
   "source": [
    "However, if you want to compute the minimum values row wise or column wise, use the np.amin version instead."
   ]
  },
  {
   "cell_type": "code",
   "execution_count": 21,
   "metadata": {},
   "outputs": [
    {
     "name": "stdout",
     "output_type": "stream",
     "text": [
      "Column wise minimun:  [ 1. -1. -1.  4.]\n",
      "Row wise minimum:  [ 1. -1.  5.]\n"
     ]
    }
   ],
   "source": [
    "# row wise and column wise \n",
    "print('Column wise minimun: ', np.amin(arr2, axis=0))\n",
    "print('Row wise minimum: ', np.amin(arr2, axis=1))"
   ]
  },
  {
   "cell_type": "code",
   "execution_count": 22,
   "metadata": {},
   "outputs": [
    {
     "data": {
      "text/plain": [
       "array([ 1.,  3.,  6., 10., 13., 12., 11., 17., 22., 28., 35., 43.])"
      ]
     },
     "execution_count": 22,
     "metadata": {},
     "output_type": "execute_result"
    }
   ],
   "source": [
    "# cumulative sum\n",
    "np.cumsum(arr2)"
   ]
  },
  {
   "cell_type": "markdown",
   "metadata": {},
   "source": [
    "## How to create a new array from an existing array?"
   ]
  },
  {
   "cell_type": "markdown",
   "metadata": {},
   "source": [
    "If you just assign a portion of an array to another array, the new array you just created actually refers to the parent array in memory.\n",
    "\n",
    "That means, if you make any changes to the new array, it will reflect in the parent array as well.\n",
    "\n",
    "So to avoid disturbing the parent array, you need to make a copy of it using copy(). All numpy arrays come with the copy() method."
   ]
  },
  {
   "cell_type": "code",
   "execution_count": 24,
   "metadata": {},
   "outputs": [
    {
     "data": {
      "text/plain": [
       "array([[100.,   2.,   3.,   4.],\n",
       "       [  3.,  -1.,  -1.,   6.],\n",
       "       [  5.,   6.,   7.,   8.]])"
      ]
     },
     "execution_count": 24,
     "metadata": {},
     "output_type": "execute_result"
    }
   ],
   "source": [
    "# assign portion of arr2 to arr2a, which does\n",
    "# not create a new array\n",
    "arr2a = arr2[:2,:2]\n",
    "arr2a[:1, :1] = 100  # 100 will reflect in arr2\n",
    "arr2"
   ]
  },
  {
   "cell_type": "code",
   "execution_count": 29,
   "metadata": {},
   "outputs": [
    {
     "name": "stdout",
     "output_type": "stream",
     "text": [
      "[[100.   2.   3.   4.]\n",
      " [  3.  -1.  -1.   6.]\n",
      " [  5.   6.   7.   8.]]\n",
      "[[101.   2.]\n",
      " [  3.  -1.]]\n"
     ]
    }
   ],
   "source": [
    "# copy portion of arr2 to arr2b\n",
    "arr2b = arr2[:2, :2].copy()\n",
    "arr2b[:1, :1] = 101\n",
    "print(arr2)\n",
    "print(arr2b)"
   ]
  },
  {
   "cell_type": "markdown",
   "metadata": {},
   "source": [
    "## Reshaping and Flattening Multidimensional arrays"
   ]
  },
  {
   "cell_type": "markdown",
   "metadata": {},
   "source": [
    "Reshaping is changing the arrangement of items so that shape of the array changes while maintaining the same number of dimensions.\n",
    "\n",
    "Flattening, however, will convert a multi-dimensional array to a flat 1d array. "
   ]
  },
  {
   "cell_type": "code",
   "execution_count": 31,
   "metadata": {},
   "outputs": [
    {
     "data": {
      "text/plain": [
       "array([[100.,   2.,   3.],\n",
       "       [  4.,   3.,  -1.],\n",
       "       [ -1.,   6.,   5.],\n",
       "       [  6.,   7.,   8.]])"
      ]
     },
     "execution_count": 31,
     "metadata": {},
     "output_type": "execute_result"
    }
   ],
   "source": [
    "# reshape a 3x4 arry to 4x3 array\n",
    "arr2.reshape(4,3)"
   ]
  },
  {
   "cell_type": "markdown",
   "metadata": {},
   "source": [
    "There are 2 popular ways to implement flattening. That is using the flatten() method and the other using the ravel() method.\n",
    "\n",
    "The difference between ravel and flatten is, the new array created using ravel is actually a reference to the parent array. So, any changes to the new array will affect the parent as well. But is memory efficient since it does not create a copy.\n",
    "\n"
   ]
  },
  {
   "cell_type": "code",
   "execution_count": 32,
   "metadata": {},
   "outputs": [
    {
     "data": {
      "text/plain": [
       "array([100.,   2.,   3.,   4.,   3.,  -1.,  -1.,   6.,   5.,   6.,   7.,\n",
       "         8.])"
      ]
     },
     "execution_count": 32,
     "metadata": {},
     "output_type": "execute_result"
    }
   ],
   "source": [
    "# flatten 2d array to a 1d array\n",
    "arr2.flatten()"
   ]
  },
  {
   "cell_type": "code",
   "execution_count": 35,
   "metadata": {},
   "outputs": [],
   "source": [
    "# changing the flattened array does not change parent\n",
    "b1 = arr2.flatten()\n",
    "b1[0] = 672  # changing b1 does not affect arr2\n",
    "arr2"
   ]
  },
  {
   "cell_type": "code",
   "execution_count": 39,
   "metadata": {},
   "outputs": [
    {
     "data": {
      "text/plain": [
       "array([[672.,   2.,   3.,   4.],\n",
       "       [  3.,  -1.,  -1.,   6.],\n",
       "       [  5.,   6.,   7.,   8.]])"
      ]
     },
     "execution_count": 39,
     "metadata": {},
     "output_type": "execute_result"
    }
   ],
   "source": [
    "# changing the raveled array changes the parent also\n",
    "b2 = arr2.ravel()\n",
    "b2[0] = 672  # changing b2 changes arr2 also\n",
    "arr2"
   ]
  },
  {
   "cell_type": "markdown",
   "metadata": {},
   "source": [
    "## How to create sequences, repetitions and random numbers?"
   ]
  },
  {
   "cell_type": "markdown",
   "metadata": {},
   "source": [
    "The np.arange function comes in handy to create customised number sequences as ndarray."
   ]
  },
  {
   "cell_type": "code",
   "execution_count": 41,
   "metadata": {},
   "outputs": [
    {
     "name": "stdout",
     "output_type": "stream",
     "text": [
      "[0 1 2 3 4]\n",
      "[0 1 2 3 4 5 6 7 8 9]\n"
     ]
    }
   ],
   "source": [
    "print(np.arange(5))\n",
    "\n",
    "# 0 to 9\n",
    "print(np.arange(0, 10))"
   ]
  },
  {
   "cell_type": "code",
   "execution_count": 43,
   "metadata": {},
   "outputs": [
    {
     "name": "stdout",
     "output_type": "stream",
     "text": [
      "[0 2 4 6 8]\n"
     ]
    }
   ],
   "source": [
    "# 0 to 9 with step of 2 \n",
    "print(np.arange(0, 10, 2))"
   ]
  },
  {
   "cell_type": "code",
   "execution_count": 44,
   "metadata": {},
   "outputs": [
    {
     "name": "stdout",
     "output_type": "stream",
     "text": [
      "[10  9  8  7  6  5  4  3  2  1]\n"
     ]
    }
   ],
   "source": [
    "# 10 to 0, decreasing order\n",
    "print(np.arange(10, 0, -1))"
   ]
  },
  {
   "cell_type": "markdown",
   "metadata": {},
   "source": [
    "Say, you want to create an array of exactly 10 numbers between 1 and 50, Can you compute what would be the step value?\n",
    "\n",
    "Well, I am going to use the np.linspace instead."
   ]
  },
  {
   "cell_type": "code",
   "execution_count": 45,
   "metadata": {},
   "outputs": [
    {
     "data": {
      "text/plain": [
       "array([ 1,  6, 11, 17, 22, 28, 33, 39, 44, 50])"
      ]
     },
     "execution_count": 45,
     "metadata": {},
     "output_type": "execute_result"
    }
   ],
   "source": [
    "# start at  1 and end at 50\n",
    "np.linspace(start=1, stop=50, num=10, dtype=int)"
   ]
  },
  {
   "cell_type": "markdown",
   "metadata": {},
   "source": [
    "Since I explicitly forced the dtype to be int, the numbers are not equally spaced because of the rounding"
   ]
  },
  {
   "cell_type": "markdown",
   "metadata": {},
   "source": [
    "Similar to np.linspace, there is also np.logspace which rises in a logarithmic scale. In np.logspace, the given start value is actually base^start and ends with base^stop, with a default based value of 10."
   ]
  },
  {
   "cell_type": "code",
   "execution_count": 46,
   "metadata": {},
   "outputs": [
    {
     "data": {
      "text/plain": [
       "array([1.00e+01, 2.78e+06, 7.74e+11, 2.15e+17, 5.99e+22, 1.67e+28,\n",
       "       4.64e+33, 1.29e+39, 3.59e+44, 1.00e+50])"
      ]
     },
     "execution_count": 46,
     "metadata": {},
     "output_type": "execute_result"
    }
   ],
   "source": [
    "# limit the number of digits after the decimal to 2\n",
    "np.set_printoptions(precision=2)\n",
    "\n",
    "# start at 10^1 and end at 10^50\n",
    "np.logspace(start=1, stop=50, num=10, base=10)"
   ]
  },
  {
   "cell_type": "markdown",
   "metadata": {},
   "source": [
    "The np.zeros and np.ones functions lets you create arrays of desired shape where all the items are either 0’s or 1’s."
   ]
  },
  {
   "cell_type": "code",
   "execution_count": 49,
   "metadata": {},
   "outputs": [
    {
     "data": {
      "text/plain": [
       "array([[0., 0.],\n",
       "       [0., 0.]])"
      ]
     },
     "execution_count": 49,
     "metadata": {},
     "output_type": "execute_result"
    }
   ],
   "source": [
    "# create 2x2 array where all items are zeros\n",
    "np.zeros([2,2])"
   ]
  },
  {
   "cell_type": "code",
   "execution_count": 50,
   "metadata": {},
   "outputs": [
    {
     "data": {
      "text/plain": [
       "array([[1., 1.],\n",
       "       [1., 1.]])"
      ]
     },
     "execution_count": 50,
     "metadata": {},
     "output_type": "execute_result"
    }
   ],
   "source": [
    "# create 2x2 array where all items are ones\n",
    "np.ones([2,2])"
   ]
  },
  {
   "cell_type": "code",
   "execution_count": 52,
   "metadata": {},
   "outputs": [
    {
     "data": {
      "text/plain": [
       "array([[7, 7],\n",
       "       [7, 7]])"
      ]
     },
     "execution_count": 52,
     "metadata": {},
     "output_type": "execute_result"
    }
   ],
   "source": [
    "# create 2x2 array where all items are a number other than 0 or 1\n",
    "np.full([2,2], 7)"
   ]
  },
  {
   "cell_type": "markdown",
   "metadata": {},
   "source": [
    "## How to create repeating sequences?"
   ]
  },
  {
   "cell_type": "markdown",
   "metadata": {},
   "source": [
    "np.tile will repeat a whole list or array n times. Whereas, np.repeat repeats each item n times."
   ]
  },
  {
   "cell_type": "code",
   "execution_count": 65,
   "metadata": {},
   "outputs": [
    {
     "name": "stdout",
     "output_type": "stream",
     "text": [
      "Tile:  [1 2 3 1 2 3]\n",
      "Repeat:  [1 1 2 2 3 3]\n"
     ]
    }
   ],
   "source": [
    "a = [1,2,3]\n",
    "\n",
    "# repeat whole of 'a' two times\n",
    "print('Tile: ', np.tile(a,2))\n",
    "\n",
    "# repeat each element of 'a' two times\n",
    "print('Repeat: ', np.repeat(a,2))"
   ]
  },
  {
   "cell_type": "markdown",
   "metadata": {},
   "source": [
    "## How to generate random numbers?"
   ]
  },
  {
   "cell_type": "code",
   "execution_count": 66,
   "metadata": {},
   "outputs": [
    {
     "name": "stdout",
     "output_type": "stream",
     "text": [
      "[[0.3  0.78]\n",
      " [0.27 0.81]]\n"
     ]
    }
   ],
   "source": [
    "# random numbers between [0,1) of shape 2,2\n",
    "print(np.random.rand(2,2))"
   ]
  },
  {
   "cell_type": "code",
   "execution_count": 67,
   "metadata": {},
   "outputs": [
    {
     "name": "stdout",
     "output_type": "stream",
     "text": [
      "[[-0.78  0.71]\n",
      " [-0.03  0.92]]\n"
     ]
    }
   ],
   "source": [
    "# normal distribution with mean=0 and variance=1 of shape 2,2\n",
    "print(np.random.randn(2,2))"
   ]
  },
  {
   "cell_type": "code",
   "execution_count": 68,
   "metadata": {},
   "outputs": [
    {
     "name": "stdout",
     "output_type": "stream",
     "text": [
      "[[9 5]\n",
      " [2 0]]\n"
     ]
    }
   ],
   "source": [
    "# random integers between [0,10) of shape 2,2 \n",
    "print(np.random.randint(0, 10, size=[2,2]))"
   ]
  },
  {
   "cell_type": "code",
   "execution_count": 69,
   "metadata": {},
   "outputs": [
    {
     "name": "stdout",
     "output_type": "stream",
     "text": [
      "0.6492422514315721\n"
     ]
    }
   ],
   "source": [
    "# one random number between [0, 1)\n",
    "print(np.random.random())"
   ]
  },
  {
   "cell_type": "code",
   "execution_count": 70,
   "metadata": {},
   "outputs": [
    {
     "name": "stdout",
     "output_type": "stream",
     "text": [
      "[[0.03 0.81]\n",
      " [0.86 0.15]]\n"
     ]
    }
   ],
   "source": [
    "# random numbers between [0,1) of shape 2,2\n",
    "print(np.random.random(size=[2,2]))"
   ]
  },
  {
   "cell_type": "code",
   "execution_count": 71,
   "metadata": {},
   "outputs": [
    {
     "name": "stdout",
     "output_type": "stream",
     "text": [
      "['o' 'o' 'i' 'i' 'a' 'i' 'i' 'o' 'e' 'u']\n"
     ]
    }
   ],
   "source": [
    "# pick 10 items from a give list, with equal probability\n",
    "print(np.random.choice(['a', 'e', 'i', 'o', 'u'], size=10))"
   ]
  },
  {
   "cell_type": "code",
   "execution_count": 72,
   "metadata": {},
   "outputs": [
    {
     "name": "stdout",
     "output_type": "stream",
     "text": [
      "['i' 'o' 'o' 'e' 'o' 'o' 'a' 'o' 'a' 'o']\n"
     ]
    }
   ],
   "source": [
    "# pick 10 items from a given list with a predefined probability\n",
    "print(np.random.choice(['a', 'e', 'i', 'o', 'u'], size=10, p=[0.3, .1, 0.1, 0.4, 0.1]))"
   ]
  },
  {
   "cell_type": "markdown",
   "metadata": {},
   "source": [
    "If you want to repeat the same set of random numbers every time, you need to set the seed or the random state. The see can be any value. The only requirement is you must set the seed to the same value every time you want to generate the same set of random numbers."
   ]
  },
  {
   "cell_type": "markdown",
   "metadata": {},
   "source": [
    "### how to get the uniques items and the counts"
   ]
  },
  {
   "cell_type": "markdown",
   "metadata": {},
   "source": [
    "The np.unique method can be used to get the unique items. If you want the repetition counts of each item, set the return_counts parameter to True.\n"
   ]
  },
  {
   "cell_type": "code",
   "execution_count": 74,
   "metadata": {},
   "outputs": [
    {
     "data": {
      "text/plain": [
       "array([8, 8, 3, 7, 7, 0, 4, 2, 5, 2])"
      ]
     },
     "execution_count": 74,
     "metadata": {},
     "output_type": "execute_result"
    }
   ],
   "source": [
    "# create random integers of size 10 between [0, 10)\n",
    "np.random.seed(100)\n",
    "arr_rand = np.random.randint(0, 10, size=10)\n",
    "arr_rand"
   ]
  },
  {
   "cell_type": "code",
   "execution_count": 78,
   "metadata": {},
   "outputs": [
    {
     "name": "stdout",
     "output_type": "stream",
     "text": [
      "Unique items:  [0 2 3 4 5 7 8]\n",
      "Counts:        [1 2 1 1 1 2 2]\n"
     ]
    }
   ],
   "source": [
    "# get the unique items and their counts\n",
    "uniques, counts = np.unique(arr_rand, return_counts=True)\n",
    "print(\"Unique items: \", uniques)\n",
    "print(\"Counts:       \", counts)"
   ]
  },
  {
   "cell_type": "code",
   "execution_count": null,
   "metadata": {},
   "outputs": [],
   "source": []
  }
 ],
 "metadata": {
  "kernelspec": {
   "display_name": "Python 3",
   "language": "python",
   "name": "python3"
  },
  "language_info": {
   "codemirror_mode": {
    "name": "ipython",
    "version": 3
   },
   "file_extension": ".py",
   "mimetype": "text/x-python",
   "name": "python",
   "nbconvert_exporter": "python",
   "pygments_lexer": "ipython3",
   "version": "3.6.4"
  }
 },
 "nbformat": 4,
 "nbformat_minor": 2
}
